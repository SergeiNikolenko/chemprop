{
  "cells": [
    {
      "cell_type": "markdown",
      "metadata": {
        "id": "6jZnD-vU9Fd-"
      },
      "source": [
        "# Setup"
      ]
    },
    {
      "cell_type": "code",
      "execution_count": null,
      "metadata": {
        "colab": {
          "base_uri": "https://localhost:8080/"
        },
        "id": "WGZxehx_44Rj",
        "outputId": "80a3e295-1e8e-4f1e-ad31-cba1a0719aa2"
      },
      "outputs": [],
      "source": [
        "import chemprop\n",
        "import pandas as pd\n",
        "import matplotlib.pyplot as plt\n",
        "from matplotlib.offsetbox import AnchoredText\n",
        "from sklearn.metrics import mean_absolute_error, mean_squared_error\n",
        "from sklearn.decomposition import PCA"
      ]
    },
    {
      "cell_type": "code",
      "execution_count": null,
      "metadata": {
        "id": "ZVmFInN_qj4n"
      },
      "outputs": [],
      "source": [
        "def plot_parity(y_true, y_pred, y_pred_unc=None):\n",
        "    \n",
        "    axmin = min(min(y_true), min(y_pred)) - 0.1*(max(y_true)-min(y_true))\n",
        "    axmax = max(max(y_true), max(y_pred)) + 0.1*(max(y_true)-min(y_true))\n",
        "    \n",
        "    mae = mean_absolute_error(y_true, y_pred)\n",
        "    rmse = mean_squared_error(y_true, y_pred, squared=False)\n",
        "    \n",
        "    plt.plot([axmin, axmax], [axmin, axmax], '--k')\n",
        "\n",
        "    plt.errorbar(y_true, y_pred, yerr=y_pred_unc, linewidth=0, marker='o', markeredgecolor='w', alpha=1, elinewidth=1)\n",
        "    \n",
        "    plt.xlim((axmin, axmax))\n",
        "    plt.ylim((axmin, axmax))\n",
        "    \n",
        "    ax = plt.gca()\n",
        "    ax.set_aspect('equal')\n",
        "    \n",
        "    at = AnchoredText(\n",
        "    f\"MAE = {mae:.2f}\\nRMSE = {rmse:.2f}\", prop=dict(size=10), frameon=True, loc='upper left')\n",
        "    at.patch.set_boxstyle(\"round,pad=0.,rounding_size=0.2\")\n",
        "    ax.add_artist(at)\n",
        "    \n",
        "    plt.xlabel('True')\n",
        "    plt.ylabel('Chemprop Predicted')\n",
        "    \n",
        "    plt.show()\n",
        "    \n",
        "    return"
      ]
    },
    {
      "cell_type": "code",
      "execution_count": null,
      "metadata": {
        "colab": {
          "base_uri": "https://localhost:8080/"
        },
        "id": "pqtogu2T7OTd",
        "outputId": "afdbf19a-9d76-4fb3-bc2c-038101585f7c",
        "scrolled": true
      },
      "outputs": [],
      "source": [
        "arguments = [\n",
        "    '--data_path', '../data/QM_100.csv',\n",
        "    '--dataset_type', 'regression',\n",
        "    '--save_dir', 'model/QM_137k_checkpoints',\n",
        "    '--smiles_columns', 'smiles',\n",
        "    '--target_columns', 'CDD hirshfeld_fukui_neu',\n",
        "    '--is_atom_bond_targets',\n",
        "    '--epochs', '100',\n",
        "    '--save_smiles_splits',\n",
        "    '--adding_h',\n",
        "    '--show_individual_scores',\n",
        "    '--split_type', 'scaffold_balanced',\n",
        "    '--num_folds', '5',\n",
        "    '--metric', 'rmse'\n",
        "\n",
        "]\n",
        "\n",
        "args = chemprop.args.TrainArgs().parse_args(arguments)\n",
        "mean_score, std_score = chemprop.train.cross_validate(args=args, train_func=chemprop.train.run_training)"
      ]
    },
    {
      "cell_type": "code",
      "execution_count": null,
      "metadata": {},
      "outputs": [],
      "source": [
        "from chemprop.args import HyperoptArgs\n",
        "from chemprop.hyperparameter_optimization import hyperopt, chemprop_hyperopt\n",
        "\n",
        "\n",
        "hyperopt_arguments = [\n",
        "    '--data_path', 'demo.csv',\n",
        "    '--dataset_type', 'regression',\n",
        "    '--config_save_path', 'hyperopt/best_hyperparams.json',  \n",
        "    '--log_dir', 'hyperopt/hyperopt_logs', \n",
        "    '--save_dir', 'hyperopt/hyperopt_checkpoints',  \n",
        "    '--smiles_columns', 'smiles',\n",
        "    '--target_columns', 'CDD',\n",
        "    '--is_atom_bond_targets',\n",
        "    '--epochs', '100',\n",
        "    '--save_smiles_splits',\n",
        "    '--adding_h',\n",
        "    '--show_individual_scores',\n",
        "    '--num_iters', '10',\n",
        "    '--num_workers','128', ####\n",
        "    '--search_parameter_keywords', 'all'  \n",
        "]\n",
        "args = HyperoptArgs().parse_args(hyperopt_arguments)\n",
        "\n",
        "hyperopt(args)\n",
        "\n"
      ]
    }
  ],
  "metadata": {
    "colab": {
      "name": "chemprop_colab_demo.ipynb",
      "provenance": []
    },
    "kernelspec": {
      "display_name": "Python 3 (ipykernel)",
      "language": "python",
      "name": "python3"
    },
    "language_info": {
      "codemirror_mode": {
        "name": "ipython",
        "version": 3
      },
      "file_extension": ".py",
      "mimetype": "text/x-python",
      "name": "python",
      "nbconvert_exporter": "python",
      "pygments_lexer": "ipython3",
      "version": "3.8.18"
    }
  },
  "nbformat": 4,
  "nbformat_minor": 0
}
